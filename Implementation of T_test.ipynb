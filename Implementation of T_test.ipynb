{
 "cells": [
  {
   "cell_type": "markdown",
   "id": "237810db",
   "metadata": {},
   "source": [
    "### T Test\n",
    "\n",
    "A t-test is a type of inferential statistic which is used to determine if there is a significant difference between the means of two groups which may be related in certain features\n",
    "\n",
    "T-test has 2 types : 1. one sampled t-test 2. two-sampled t-test.\n",
    "\n"
   ]
  },
  {
   "cell_type": "markdown",
   "id": "65a7fc7d",
   "metadata": {},
   "source": [
    "One-sample T-test with Python\n",
    "\n",
    "The test will tell us whether means of the sample and the population are different\n"
   ]
  },
  {
   "cell_type": "code",
   "execution_count": 1,
   "id": "1447704b",
   "metadata": {},
   "outputs": [],
   "source": [
    "import seaborn as sns\n",
    "sns.set(color_codes=True)\n",
    "\n",
    "sns.set(rc={'figure.figsize':(5,5)})"
   ]
  },
  {
   "cell_type": "code",
   "execution_count": 2,
   "id": "cd145135",
   "metadata": {},
   "outputs": [],
   "source": [
    "ages=[22,27,28,16,29,31,34,21,35,36,38,39,40,41,42,44,46]"
   ]
  },
  {
   "cell_type": "code",
   "execution_count": 3,
   "id": "b3a5bec3",
   "metadata": {},
   "outputs": [
    {
     "data": {
      "text/plain": [
       "17"
      ]
     },
     "execution_count": 3,
     "metadata": {},
     "output_type": "execute_result"
    }
   ],
   "source": [
    "len(ages)"
   ]
  },
  {
   "cell_type": "code",
   "execution_count": 4,
   "id": "4ec4cdac",
   "metadata": {},
   "outputs": [
    {
     "data": {
      "text/plain": [
       "33.470588235294116"
      ]
     },
     "execution_count": 4,
     "metadata": {},
     "output_type": "execute_result"
    }
   ],
   "source": [
    "import numpy as np\n",
    "ag_mean=np.mean(ages)\n",
    "ag_mean"
   ]
  },
  {
   "cell_type": "code",
   "execution_count": 5,
   "id": "c3b168cd",
   "metadata": {},
   "outputs": [],
   "source": [
    "#taking a sample\n",
    "sample_size=10\n",
    "age_samp=np.random.choice(ages,sample_size)"
   ]
  },
  {
   "cell_type": "code",
   "execution_count": 6,
   "id": "af56825b",
   "metadata": {},
   "outputs": [
    {
     "data": {
      "text/plain": [
       "array([28, 29, 34, 31, 22, 21, 35, 35, 27, 44])"
      ]
     },
     "execution_count": 6,
     "metadata": {},
     "output_type": "execute_result"
    }
   ],
   "source": [
    "age_samp"
   ]
  },
  {
   "cell_type": "code",
   "execution_count": 7,
   "id": "1d66992e",
   "metadata": {},
   "outputs": [],
   "source": [
    "from scipy.stats import ttest_1samp\n",
    "#to perfom 1 sample t test"
   ]
  },
  {
   "cell_type": "code",
   "execution_count": 8,
   "id": "e764174a",
   "metadata": {},
   "outputs": [],
   "source": [
    "ttest,p_value=ttest_1samp(age_samp,33)   #if same as population and sample then p value will be less than 0.05"
   ]
  },
  {
   "cell_type": "code",
   "execution_count": 9,
   "id": "252f0cf0",
   "metadata": {},
   "outputs": [
    {
     "name": "stdout",
     "output_type": "stream",
     "text": [
      "0.2945075647652987\n"
     ]
    }
   ],
   "source": [
    "print(p_value)"
   ]
  },
  {
   "cell_type": "code",
   "execution_count": 10,
   "id": "3502279c",
   "metadata": {},
   "outputs": [
    {
     "name": "stdout",
     "output_type": "stream",
     "text": [
      "cant Reject null hypothesis\n"
     ]
    }
   ],
   "source": [
    "if p_value>0.05:\n",
    "    print(\"cant Reject null hypothesis\")\n",
    "else:\n",
    "    print(\"Null Hypo rejected\")\n",
    "    "
   ]
  },
  {
   "cell_type": "code",
   "execution_count": 11,
   "id": "256d5859",
   "metadata": {},
   "outputs": [
    {
     "name": "stdout",
     "output_type": "stream",
     "text": [
      "53.0294\n"
     ]
    },
    {
     "data": {
      "image/png": "[encoded data removed]",
      "text/plain": [
       "<Figure size 360x360 with 1 Axes>"
      ]
     },
     "metadata": {},
     "output_type": "display_data"
    }
   ],
   "source": [
    "from scipy.stats import poisson\n",
    "import math\n",
    "clg_age=poisson.rvs(size=5000,loc=18,mu=35)\n",
    "cls_age=poisson.rvs(size=60,loc=18,mu=30)\n",
    "sns.histplot(clg_age,kde=True,color='r')\n",
    "print(clg_age.mean())"
   ]
  },
  {
   "cell_type": "code",
   "execution_count": 12,
   "id": "1fc07fc0",
   "metadata": {},
   "outputs": [
    {
     "name": "stdout",
     "output_type": "stream",
     "text": [
      "48.35\n"
     ]
    },
    {
     "data": {
      "text/plain": [
       "<AxesSubplot:ylabel='Count'>"
      ]
     },
     "execution_count": 12,
     "metadata": {},
     "output_type": "execute_result"
    },
    {
     "data": {
      "image/png": "[encoded data removed]",
      "text/plain": [
       "<Figure size 360x360 with 1 Axes>"
      ]
     },
     "metadata": {},
     "output_type": "display_data"
    }
   ],
   "source": [
    "print(cls_age.mean())\n",
    "sns.histplot(cls_age,kde=True)"
   ]
  },
  {
   "cell_type": "code",
   "execution_count": 13,
   "id": "b7d1b41b",
   "metadata": {},
   "outputs": [],
   "source": [
    "from scipy.stats import ttest_1samp"
   ]
  },
  {
   "cell_type": "code",
   "execution_count": 14,
   "id": "bcaec086",
   "metadata": {},
   "outputs": [],
   "source": [
    "ttest,p_value=ttest_1samp(a=cls_age,popmean=clg_age.mean())  \n",
    "#a is sample observation and popmean=population mean"
   ]
  },
  {
   "cell_type": "code",
   "execution_count": 15,
   "id": "851ce846",
   "metadata": {},
   "outputs": [
    {
     "name": "stdout",
     "output_type": "stream",
     "text": [
      "9.71914423763223e-10\n"
     ]
    }
   ],
   "source": [
    "print(p_value)"
   ]
  },
  {
   "cell_type": "code",
   "execution_count": 16,
   "id": "caad91bf",
   "metadata": {},
   "outputs": [
    {
     "name": "stdout",
     "output_type": "stream",
     "text": [
      "Null Hypo rejected\n"
     ]
    }
   ],
   "source": [
    "if p_value>0.05:\n",
    "    print(\"cant Reject null hypothesis\")\n",
    "else:\n",
    "    print(\"Null Hypo rejected\")"
   ]
  },
  {
   "cell_type": "code",
   "execution_count": 17,
   "id": "b638a1a2",
   "metadata": {},
   "outputs": [
    {
     "data": {
      "text/plain": [
       "False"
      ]
     },
     "execution_count": 17,
     "metadata": {},
     "output_type": "execute_result"
    }
   ],
   "source": [
    "(1.3652799983974874e-12)>0.05"
   ]
  },
  {
   "cell_type": "markdown",
   "id": "7c525639",
   "metadata": {},
   "source": [
    "### Two-sample T-test With Python\n",
    "\n",
    "The Independent Samples t Test or 2-sample t-test compares the means of two independent groups in order to determine whether there is statistical evidence that the associated population means are significantly different. The Independent Samples t Test is a parametric test. This test is also known as: Independent t Test"
   ]
  },
  {
   "cell_type": "code",
   "execution_count": 18,
   "id": "a52af0f9",
   "metadata": {},
   "outputs": [
    {
     "name": "stdout",
     "output_type": "stream",
     "text": [
      "50.11666666666667\n"
     ]
    }
   ],
   "source": [
    "classB_ages=poisson.rvs(loc=18,mu=33,size=60)\n",
    "print(classB_ages.mean())"
   ]
  },
  {
   "cell_type": "code",
   "execution_count": 19,
   "id": "41a959ba",
   "metadata": {},
   "outputs": [
    {
     "data": {
      "text/plain": [
       "<AxesSubplot:ylabel='Count'>"
      ]
     },
     "execution_count": 19,
     "metadata": {},
     "output_type": "execute_result"
    },
    {
     "data": {
      "image/png": "[encoded data removed]",
      "text/plain": [
       "<Figure size 360x360 with 1 Axes>"
      ]
     },
     "metadata": {},
     "output_type": "display_data"
    }
   ],
   "source": [
    "sns.histplot(classB_ages)"
   ]
  },
  {
   "cell_type": "code",
   "execution_count": 21,
   "id": "da829625",
   "metadata": {},
   "outputs": [],
   "source": [
    "from scipy.stats import ttest_ind"
   ]
  },
  {
   "cell_type": "code",
   "execution_count": 25,
   "id": "e2cb4e93",
   "metadata": {},
   "outputs": [
    {
     "name": "stdout",
     "output_type": "stream",
     "text": [
      "-1.8069734179185029\n"
     ]
    }
   ],
   "source": [
    "p_value,ttest=ttest_ind(a=cls_age,b=classB_ages)\n",
    "print(p_value)"
   ]
  },
  {
   "cell_type": "code",
   "execution_count": 27,
   "id": "1790d0c3",
   "metadata": {},
   "outputs": [
    {
     "name": "stdout",
     "output_type": "stream",
     "text": [
      "End of Null Hypo\n"
     ]
    }
   ],
   "source": [
    "if p_value<0.05:\n",
    "    print(\"End of Null Hypo\")\n",
    "else:\n",
    "    print(\"Null Hypo is there\")"
   ]
  },
  {
   "cell_type": "markdown",
   "id": "2de6a6e8",
   "metadata": {},
   "source": [
    "### Paired T-test With Python\n",
    "\n",
    "When you want to check how different samples from the same group are, you can go for a paired T-test"
   ]
  },
  {
   "cell_type": "code",
   "execution_count": 30,
   "id": "f80b15bf",
   "metadata": {},
   "outputs": [],
   "source": [
    "from scipy.stats import norm"
   ]
  },
  {
   "cell_type": "code",
   "execution_count": 31,
   "id": "b477f852",
   "metadata": {},
   "outputs": [],
   "source": [
    "weight=[22,12,24,25,26,23,27,24,28,30]\n",
    "w2=weight+norm.rvs(scale=5,loc=1.25,size=10)     #size 10 due to weight is 10"
   ]
  },
  {
   "cell_type": "code",
   "execution_count": 32,
   "id": "7d9c6135",
   "metadata": {},
   "outputs": [
    {
     "name": "stdout",
     "output_type": "stream",
     "text": [
      "[22, 12, 24, 25, 26, 23, 27, 24, 28, 30]\n",
      "[23.36043516 18.7187578  25.85261851 24.54997871 22.37111569 21.12108329\n",
      " 24.92214649 28.1555055  34.86112322 29.57751809]\n"
     ]
    }
   ],
   "source": [
    "print(weight)\n",
    "print(w2)"
   ]
  },
  {
   "cell_type": "code",
   "execution_count": 36,
   "id": "9276da87",
   "metadata": {},
   "outputs": [
    {
     "data": {
      "application/javascript": [
       "\n",
       "        if (window._pyforest_update_imports_cell) { window._pyforest_update_imports_cell('import pandas as pd'); }\n",
       "    "
      ],
      "text/plain": [
       "<IPython.core.display.Javascript object>"
      ]
     },
     "metadata": {},
     "output_type": "display_data"
    }
   ],
   "source": [
    "weight_df=pd.DataFrame({\"weight_10\":np.array(weight),\n",
    "          \"weight_20\":np.array(w2),\n",
    "          \"weight_change\":np.array(w2)-np.array(weight)})"
   ]
  },
  {
   "cell_type": "code",
   "execution_count": 37,
   "id": "f0713343",
   "metadata": {},
   "outputs": [
    {
     "data": {
      "text/html": [
       "<div>\n",
       "<style scoped>\n",
       "    .dataframe tbody tr th:only-of-type {\n",
       "        vertical-align: middle;\n",
       "    }\n",
       "\n",
       "    .dataframe tbody tr th {\n",
       "        vertical-align: top;\n",
       "    }\n",
       "\n",
       "    .dataframe thead th {\n",
       "        text-align: right;\n",
       "    }\n",
       "</style>\n",
       "<table border=\"1\" class=\"dataframe\">\n",
       "  <thead>\n",
       "    <tr style=\"text-align: right;\">\n",
       "      <th></th>\n",
       "      <th>weight_10</th>\n",
       "      <th>weight_20</th>\n",
       "      <th>weight_change</th>\n",
       "    </tr>\n",
       "  </thead>\n",
       "  <tbody>\n",
       "    <tr>\n",
       "      <th>0</th>\n",
       "      <td>22</td>\n",
       "      <td>23.360435</td>\n",
       "      <td>1.360435</td>\n",
       "    </tr>\n",
       "    <tr>\n",
       "      <th>1</th>\n",
       "      <td>12</td>\n",
       "      <td>18.718758</td>\n",
       "      <td>6.718758</td>\n",
       "    </tr>\n",
       "    <tr>\n",
       "      <th>2</th>\n",
       "      <td>24</td>\n",
       "      <td>25.852619</td>\n",
       "      <td>1.852619</td>\n",
       "    </tr>\n",
       "    <tr>\n",
       "      <th>3</th>\n",
       "      <td>25</td>\n",
       "      <td>24.549979</td>\n",
       "      <td>-0.450021</td>\n",
       "    </tr>\n",
       "    <tr>\n",
       "      <th>4</th>\n",
       "      <td>26</td>\n",
       "      <td>22.371116</td>\n",
       "      <td>-3.628884</td>\n",
       "    </tr>\n",
       "    <tr>\n",
       "      <th>5</th>\n",
       "      <td>23</td>\n",
       "      <td>21.121083</td>\n",
       "      <td>-1.878917</td>\n",
       "    </tr>\n",
       "    <tr>\n",
       "      <th>6</th>\n",
       "      <td>27</td>\n",
       "      <td>24.922146</td>\n",
       "      <td>-2.077854</td>\n",
       "    </tr>\n",
       "    <tr>\n",
       "      <th>7</th>\n",
       "      <td>24</td>\n",
       "      <td>28.155505</td>\n",
       "      <td>4.155505</td>\n",
       "    </tr>\n",
       "    <tr>\n",
       "      <th>8</th>\n",
       "      <td>28</td>\n",
       "      <td>34.861123</td>\n",
       "      <td>6.861123</td>\n",
       "    </tr>\n",
       "    <tr>\n",
       "      <th>9</th>\n",
       "      <td>30</td>\n",
       "      <td>29.577518</td>\n",
       "      <td>-0.422482</td>\n",
       "    </tr>\n",
       "  </tbody>\n",
       "</table>\n",
       "</div>"
      ],
      "text/plain": [
       "   weight_10  weight_20  weight_change\n",
       "0         22  23.360435       1.360435\n",
       "1         12  18.718758       6.718758\n",
       "2         24  25.852619       1.852619\n",
       "3         25  24.549979      -0.450021\n",
       "4         26  22.371116      -3.628884\n",
       "5         23  21.121083      -1.878917\n",
       "6         27  24.922146      -2.077854\n",
       "7         24  28.155505       4.155505\n",
       "8         28  34.861123       6.861123\n",
       "9         30  29.577518      -0.422482"
      ]
     },
     "execution_count": 37,
     "metadata": {},
     "output_type": "execute_result"
    }
   ],
   "source": [
    "weight_df"
   ]
  },
  {
   "cell_type": "code",
   "execution_count": 38,
   "id": "c5b8067c",
   "metadata": {},
   "outputs": [],
   "source": [
    "from scipy.stats import ttest_rel     #to calculate relation of same samples of same group"
   ]
  },
  {
   "cell_type": "code",
   "execution_count": 39,
   "id": "6f1c061b",
   "metadata": {},
   "outputs": [],
   "source": [
    "ttest,p_value=ttest_rel(a=weight,b=w2)"
   ]
  },
  {
   "cell_type": "code",
   "execution_count": 40,
   "id": "eda8098b",
   "metadata": {},
   "outputs": [
    {
     "name": "stdout",
     "output_type": "stream",
     "text": [
      "0.3085900104956331\n"
     ]
    }
   ],
   "source": [
    "print(p_value)"
   ]
  },
  {
   "cell_type": "code",
   "execution_count": 43,
   "id": "0890b752",
   "metadata": {},
   "outputs": [
    {
     "name": "stdout",
     "output_type": "stream",
     "text": [
      "Accpt null hyp\n"
     ]
    }
   ],
   "source": [
    "#if there was maximum difference between this a and b we will be able to rejct null hypo\n",
    "if p_value>0.05:\n",
    "    print(\"Accpt null hyp\")\n",
    "else:\n",
    "    print(\"Reject null hypo\")"
   ]
  },
  {
   "cell_type": "code",
   "execution_count": null,
   "id": "2af62faa",
   "metadata": {},
   "outputs": [],
   "source": []
  }
 ],
 "metadata": {
  "kernelspec": {
   "display_name": "Python 3",
   "language": "python",
   "name": "python3"
  },
  "language_info": {
   "codemirror_mode": {
    "name": "ipython",
    "version": 3
   },
   "file_extension": ".py",
   "mimetype": "text/x-python",
   "name": "python",
   "nbconvert_exporter": "python",
   "pygments_lexer": "ipython3",
   "version": "3.7.3"
  }
 },
 "nbformat": 4,
 "nbformat_minor": 5
}
