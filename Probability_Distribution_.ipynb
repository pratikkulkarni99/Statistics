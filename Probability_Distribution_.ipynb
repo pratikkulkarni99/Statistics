{
 "cells": [
  {
   "cell_type": "code",
   "execution_count": 119,
   "id": "67c6e206",
   "metadata": {},
   "outputs": [],
   "source": [
    "#loading numpy and matplotlib\n",
    "import numpy as np"
   ]
  },
  {
   "cell_type": "code",
   "execution_count": 2,
   "id": "58530c30",
   "metadata": {},
   "outputs": [],
   "source": [
    "import matplotlib.pyplot as plt"
   ]
  },
  {
   "cell_type": "code",
   "execution_count": 120,
   "id": "afb913ea",
   "metadata": {},
   "outputs": [],
   "source": [
    "#defining function for relative_frequcny\n",
    "def plot_relative_frequency_distribution(N):\n",
    "    sample_size=np.random.randint(low=5,high=10,size=N)\n",
    "    plt.xlabel(\"Shoe_size\")\n",
    "    plt.ylabel(\"Frequency\")\n",
    "    plt.hist(sample_size,bins=5)"
   ]
  },
  {
   "cell_type": "code",
   "execution_count": 121,
   "id": "d2cfc689",
   "metadata": {},
   "outputs": [
    {
     "data": {
      "image/png": "[encoded data removed]",
      "text/plain": [
       "<Figure size 432x288 with 1 Axes>"
      ]
     },
     "metadata": {
      "needs_background": "light"
     },
     "output_type": "display_data"
    }
   ],
   "source": [
    "#getting relative frequcy of 100000 values\n",
    "plot_relative_frequency_distribution(100000)"
   ]
  },
  {
   "cell_type": "markdown",
   "id": "60126873",
   "metadata": {},
   "source": [
    "Experiment of number of coin tosses"
   ]
  },
  {
   "cell_type": "code",
   "execution_count": 122,
   "id": "3c5c54b2",
   "metadata": {},
   "outputs": [],
   "source": [
    "number_of_time_tosses=1000000"
   ]
  },
  {
   "cell_type": "code",
   "execution_count": 126,
   "id": "8a299f88",
   "metadata": {},
   "outputs": [],
   "source": [
    "#using bionomial as we have only 0 and 1 outcomes\n",
    "coin_tosses=np.random.binomial(n=1,p=0.65,size=(number_of_time_tosses,10))"
   ]
  },
  {
   "cell_type": "code",
   "execution_count": 127,
   "id": "5b497c5d",
   "metadata": {},
   "outputs": [
    {
     "data": {
      "text/plain": [
       "array([[1, 1, 1, ..., 0, 1, 0],\n",
       "       [1, 0, 1, ..., 1, 0, 1],\n",
       "       [1, 1, 1, ..., 1, 1, 1],\n",
       "       ...,\n",
       "       [0, 1, 0, ..., 1, 1, 1],\n",
       "       [1, 0, 0, ..., 1, 0, 1],\n",
       "       [1, 1, 0, ..., 0, 1, 0]])"
      ]
     },
     "execution_count": 127,
     "metadata": {},
     "output_type": "execute_result"
    }
   ],
   "source": [
    "#coin toss results\n",
    "coin_tosses"
   ]
  },
  {
   "cell_type": "code",
   "execution_count": 128,
   "id": "a97dd4cf",
   "metadata": {},
   "outputs": [],
   "source": [
    "#getting count of non_zero values\n",
    "number_of_desire=np.count_nonzero(coin_tosses,axis=1)"
   ]
  },
  {
   "cell_type": "code",
   "execution_count": 83,
   "id": "35fe22b1",
   "metadata": {},
   "outputs": [
    {
     "data": {
      "text/plain": [
       "array([6, 4, 7, ..., 8, 6, 4], dtype=int64)"
      ]
     },
     "execution_count": 83,
     "metadata": {},
     "output_type": "execute_result"
    }
   ],
   "source": [
    "#value of no of desired outcomes\n",
    "number_of_desire"
   ]
  },
  {
   "cell_type": "code",
   "execution_count": 129,
   "id": "4785f8e5",
   "metadata": {},
   "outputs": [],
   "source": [
    "#using loops to give different no of times expt will happen\n",
    "frequency_x_equals_k=list()\n",
    "for k in range(0,11):\n",
    "    \n",
    "    frequency_x_equals_k.append(np.count_nonzero(number_of_desire==k))\n",
    "    \n",
    "frequency_x_equals_k=np.array(frequency_x_equals_k)"
   ]
  },
  {
   "cell_type": "code",
   "execution_count": 130,
   "id": "193660f9",
   "metadata": {},
   "outputs": [
    {
     "data": {
      "text/plain": [
       "array([    22,    513,   4247,  21015,  68720, 153598, 238536, 252064,\n",
       "       175640,  72300,  13345])"
      ]
     },
     "execution_count": 130,
     "metadata": {},
     "output_type": "execute_result"
    }
   ],
   "source": [
    "#getting value of frequency\n",
    "frequency_x_equals_k"
   ]
  },
  {
   "cell_type": "code",
   "execution_count": 131,
   "id": "4a25d931",
   "metadata": {},
   "outputs": [],
   "source": [
    "#getting relative frequency\n",
    "rel_fre=frequency_x_equals_k/number_of_time_tosses"
   ]
  },
  {
   "cell_type": "code",
   "execution_count": 132,
   "id": "d67bb8b5",
   "metadata": {},
   "outputs": [
    {
     "data": {
      "text/plain": [
       "array([2.20000e-05, 5.13000e-04, 4.24700e-03, 2.10150e-02, 6.87200e-02,\n",
       "       1.53598e-01, 2.38536e-01, 2.52064e-01, 1.75640e-01, 7.23000e-02,\n",
       "       1.33450e-02])"
      ]
     },
     "execution_count": 132,
     "metadata": {},
     "output_type": "execute_result"
    }
   ],
   "source": [
    "#total list of relative frequcy from 0 to 10\n",
    "rel_fre"
   ]
  },
  {
   "cell_type": "code",
   "execution_count": 133,
   "id": "8f44c4e2",
   "metadata": {},
   "outputs": [
    {
     "name": "stderr",
     "output_type": "stream",
     "text": [
      "No handles with labels found to put in legend.\n"
     ]
    },
    {
     "data": {
      "text/plain": [
       "<matplotlib.legend.Legend at 0x25cb8c99240>"
      ]
     },
     "execution_count": 133,
     "metadata": {},
     "output_type": "execute_result"
    },
    {
     "data": {
      "image/png": "[encoded data removed]",
      "text/plain": [
       "<Figure size 432x288 with 1 Axes>"
      ]
     },
     "metadata": {
      "needs_background": "light"
     },
     "output_type": "display_data"
    }
   ],
   "source": [
    "#plotting bar of relative frequency vs no of possible outcomes\n",
    "plt.bar(list(range(0,11)),rel_fre,color='pink')\n",
    "plt.xlabel(\"No of desired outcomes\")\n",
    "plt.ylabel(\"Relative_frequncy\")\n",
    "plt.grid()\n",
    "plt.legend()"
   ]
  },
  {
   "cell_type": "markdown",
   "id": "994c5106",
   "metadata": {},
   "source": [
    "Data of number of times accidents will happen in 10 days "
   ]
  },
  {
   "cell_type": "code",
   "execution_count": 95,
   "id": "4fa80185",
   "metadata": {},
   "outputs": [],
   "source": [
    "#setting days\n",
    "number_of_days=10"
   ]
  },
  {
   "cell_type": "code",
   "execution_count": 134,
   "id": "f7868646",
   "metadata": {},
   "outputs": [],
   "source": [
    "#using poisson to get value in time\n",
    "number_of_accidents=np.random.poisson(lam=4.5,size=number_of_days)"
   ]
  },
  {
   "cell_type": "code",
   "execution_count": 135,
   "id": "18aca0ec",
   "metadata": {},
   "outputs": [
    {
     "data": {
      "text/plain": [
       "array([6, 2, 7, 4, 4, 6, 2, 6, 4, 6])"
      ]
     },
     "execution_count": 135,
     "metadata": {},
     "output_type": "execute_result"
    }
   ],
   "source": [
    "#number of accidents\n",
    "number_of_accidents"
   ]
  },
  {
   "cell_type": "markdown",
   "id": "67e8bd0b",
   "metadata": {},
   "source": [
    "#### TAKING DATA FOR  WEIGHT"
   ]
  },
  {
   "cell_type": "code",
   "execution_count": 136,
   "id": "6de1f4c8",
   "metadata": {},
   "outputs": [],
   "source": [
    "#using normal distribution to check shape of data\n",
    "weight_sample=np.random.normal(loc=65,scale=15,size=10000000)"
   ]
  },
  {
   "cell_type": "code",
   "execution_count": 137,
   "id": "6e76d968",
   "metadata": {},
   "outputs": [
    {
     "data": {
      "text/plain": [
       "Text(0, 0.5, 'frequcy x=k')"
      ]
     },
     "execution_count": 137,
     "metadata": {},
     "output_type": "execute_result"
    },
    {
     "data": {
      "image/png": "[encoded data removed]",
      "text/plain": [
       "<Figure size 432x288 with 1 Axes>"
      ]
     },
     "metadata": {
      "needs_background": "light"
     },
     "output_type": "display_data"
    }
   ],
   "source": [
    "#plotting shape of data \n",
    "plt.hist(weight_sample,bins=1000)\n",
    "plt.xlabel(\"weight\")\n",
    "plt.ylabel(\"frequcy x=k\")"
   ]
  },
  {
   "cell_type": "code",
   "execution_count": null,
   "id": "eded1280",
   "metadata": {},
   "outputs": [],
   "source": [
    "#### WE ARE G"
   ]
  }
 ],
 "metadata": {
  "kernelspec": {
   "display_name": "Python 3",
   "language": "python",
   "name": "python3"
  },
  "language_info": {
   "codemirror_mode": {
    "name": "ipython",
    "version": 3
   },
   "file_extension": ".py",
   "mimetype": "text/x-python",
   "name": "python",
   "nbconvert_exporter": "python",
   "pygments_lexer": "ipython3",
   "version": "3.7.3"
  }
 },
 "nbformat": 4,
 "nbformat_minor": 5
}
