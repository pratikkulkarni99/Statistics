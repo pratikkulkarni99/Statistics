{
 "cells": [
  {
   "cell_type": "code",
   "execution_count": 1,
   "id": "e3a0d867",
   "metadata": {},
   "outputs": [],
   "source": [
    "import numpy as np"
   ]
  },
  {
   "cell_type": "code",
   "execution_count": 28,
   "id": "5ea8cfdd",
   "metadata": {},
   "outputs": [],
   "source": [
    "N_samples=500\n",
    "sample_size=45"
   ]
  },
  {
   "cell_type": "code",
   "execution_count": 29,
   "id": "ae3ebf42",
   "metadata": {},
   "outputs": [],
   "source": [
    "die=np.random.randint(1,7,size=(N_samples,sample_size))"
   ]
  },
  {
   "cell_type": "code",
   "execution_count": 30,
   "id": "d73498fd",
   "metadata": {},
   "outputs": [
    {
     "data": {
      "text/plain": [
       "array([[6, 1, 1, ..., 6, 1, 2],\n",
       "       [2, 3, 4, ..., 5, 3, 2],\n",
       "       [1, 4, 1, ..., 1, 4, 5],\n",
       "       ...,\n",
       "       [2, 6, 6, ..., 6, 6, 5],\n",
       "       [5, 5, 1, ..., 6, 3, 4],\n",
       "       [5, 2, 5, ..., 1, 2, 6]])"
      ]
     },
     "execution_count": 30,
     "metadata": {},
     "output_type": "execute_result"
    }
   ],
   "source": [
    "die\n"
   ]
  },
  {
   "cell_type": "code",
   "execution_count": 31,
   "id": "e733ab11",
   "metadata": {},
   "outputs": [],
   "source": [
    "sample_mean=np.mean(die,axis=1)"
   ]
  },
  {
   "cell_type": "code",
   "execution_count": 32,
   "id": "32ff938a",
   "metadata": {},
   "outputs": [
    {
     "data": {
      "text/plain": [
       "array([3.53333333, 3.26666667, 3.51111111, 3.44444444, 3.42222222,\n",
       "       3.42222222, 3.8       , 3.84444444, 3.31111111, 3.55555556,\n",
       "       3.8       , 3.22222222, 3.31111111, 3.53333333, 3.28888889,\n",
       "       3.62222222, 3.77777778, 3.08888889, 3.55555556, 3.82222222,\n",
       "       3.02222222, 3.71111111, 3.55555556, 3.53333333, 3.73333333,\n",
       "       3.4       , 3.73333333, 3.33333333, 3.73333333, 3.82222222,\n",
       "       3.42222222, 3.13333333, 3.24444444, 3.93333333, 3.6       ,\n",
       "       3.68888889, 3.53333333, 3.13333333, 3.62222222, 3.55555556,\n",
       "       3.57777778, 3.91111111, 3.02222222, 3.64444444, 3.35555556,\n",
       "       3.73333333, 3.24444444, 3.35555556, 3.66666667, 3.97777778,\n",
       "       3.24444444, 3.22222222, 3.17777778, 3.37777778, 3.35555556,\n",
       "       3.4       , 3.44444444, 2.93333333, 3.97777778, 3.6       ,\n",
       "       3.11111111, 3.06666667, 3.86666667, 3.4       , 3.71111111,\n",
       "       3.51111111, 3.44444444, 3.57777778, 3.37777778, 3.11111111,\n",
       "       3.68888889, 3.64444444, 3.22222222, 2.97777778, 3.31111111,\n",
       "       3.71111111, 3.55555556, 3.73333333, 3.75555556, 3.48888889,\n",
       "       3.57777778, 3.6       , 3.28888889, 3.64444444, 3.82222222,\n",
       "       3.4       , 3.35555556, 3.68888889, 3.28888889, 3.6       ,\n",
       "       3.57777778, 3.44444444, 3.6       , 3.66666667, 3.6       ,\n",
       "       3.4       , 3.77777778, 3.51111111, 3.15555556, 3.17777778,\n",
       "       3.46666667, 3.68888889, 3.64444444, 3.46666667, 3.55555556,\n",
       "       3.17777778, 3.42222222, 3.71111111, 3.42222222, 3.24444444,\n",
       "       3.77777778, 3.84444444, 4.08888889, 3.73333333, 3.66666667,\n",
       "       3.42222222, 3.44444444, 3.31111111, 3.73333333, 3.64444444,\n",
       "       3.88888889, 3.26666667, 3.35555556, 3.6       , 3.82222222,\n",
       "       3.55555556, 3.31111111, 3.4       , 3.42222222, 3.53333333,\n",
       "       3.88888889, 3.53333333, 3.84444444, 3.6       , 3.31111111,\n",
       "       3.48888889, 3.53333333, 3.86666667, 3.4       , 4.13333333,\n",
       "       3.53333333, 3.53333333, 3.22222222, 3.53333333, 3.95555556,\n",
       "       3.35555556, 3.93333333, 3.37777778, 3.51111111, 3.44444444,\n",
       "       3.51111111, 3.75555556, 3.8       , 3.64444444, 3.4       ,\n",
       "       3.51111111, 3.31111111, 3.51111111, 3.66666667, 3.4       ,\n",
       "       3.48888889, 3.35555556, 3.17777778, 3.82222222, 3.6       ,\n",
       "       3.8       , 3.33333333, 3.57777778, 3.04444444, 3.51111111,\n",
       "       3.35555556, 3.35555556, 3.57777778, 2.91111111, 3.57777778,\n",
       "       3.57777778, 3.73333333, 3.15555556, 3.        , 3.46666667,\n",
       "       3.06666667, 3.66666667, 3.06666667, 3.31111111, 3.71111111,\n",
       "       3.51111111, 3.86666667, 3.57777778, 3.35555556, 3.68888889,\n",
       "       3.64444444, 3.46666667, 3.6       , 3.35555556, 3.62222222,\n",
       "       3.4       , 3.48888889, 3.8       , 3.57777778, 3.48888889,\n",
       "       3.64444444, 3.28888889, 3.44444444, 3.68888889, 3.64444444,\n",
       "       3.04444444, 3.66666667, 3.88888889, 3.44444444, 3.95555556,\n",
       "       3.42222222, 3.55555556, 3.02222222, 3.66666667, 3.95555556,\n",
       "       3.53333333, 3.35555556, 3.24444444, 3.71111111, 3.22222222,\n",
       "       3.42222222, 3.4       , 3.86666667, 3.86666667, 3.44444444,\n",
       "       3.53333333, 3.44444444, 3.51111111, 2.88888889, 3.44444444,\n",
       "       3.4       , 3.91111111, 3.71111111, 3.57777778, 3.53333333,\n",
       "       3.57777778, 3.91111111, 3.51111111, 3.93333333, 3.66666667,\n",
       "       3.86666667, 3.55555556, 3.31111111, 3.46666667, 2.91111111,\n",
       "       3.15555556, 3.6       , 3.33333333, 3.4       , 3.97777778,\n",
       "       3.35555556, 3.64444444, 3.26666667, 3.68888889, 3.84444444,\n",
       "       3.44444444, 3.6       , 3.46666667, 3.24444444, 3.8       ,\n",
       "       3.06666667, 3.73333333, 3.51111111, 3.22222222, 3.62222222,\n",
       "       3.68888889, 3.33333333, 3.75555556, 3.91111111, 3.26666667,\n",
       "       3.71111111, 3.22222222, 3.82222222, 3.17777778, 3.6       ,\n",
       "       3.57777778, 3.84444444, 3.31111111, 3.55555556, 3.02222222,\n",
       "       3.62222222, 3.33333333, 3.93333333, 3.64444444, 3.4       ,\n",
       "       3.66666667, 3.57777778, 3.51111111, 3.44444444, 3.26666667,\n",
       "       3.77777778, 3.82222222, 3.2       , 3.51111111, 3.17777778,\n",
       "       3.44444444, 3.35555556, 3.55555556, 3.17777778, 3.31111111,\n",
       "       3.46666667, 3.91111111, 3.48888889, 3.11111111, 3.86666667,\n",
       "       3.6       , 3.31111111, 3.28888889, 3.73333333, 3.6       ,\n",
       "       3.13333333, 3.4       , 3.37777778, 3.62222222, 3.15555556,\n",
       "       3.8       , 3.66666667, 3.28888889, 3.86666667, 3.11111111,\n",
       "       3.44444444, 3.73333333, 3.68888889, 3.51111111, 3.08888889,\n",
       "       3.62222222, 3.8       , 3.42222222, 3.55555556, 3.64444444,\n",
       "       3.31111111, 3.71111111, 3.91111111, 3.64444444, 3.48888889,\n",
       "       3.28888889, 3.53333333, 3.28888889, 3.53333333, 3.15555556,\n",
       "       3.33333333, 3.68888889, 3.28888889, 3.71111111, 3.53333333,\n",
       "       3.46666667, 3.35555556, 3.53333333, 3.51111111, 3.53333333,\n",
       "       3.84444444, 3.53333333, 3.6       , 3.2       , 3.55555556,\n",
       "       3.42222222, 3.42222222, 3.68888889, 3.31111111, 3.11111111,\n",
       "       3.64444444, 3.93333333, 3.31111111, 2.88888889, 3.93333333,\n",
       "       3.46666667, 3.6       , 3.95555556, 3.84444444, 3.24444444,\n",
       "       3.8       , 3.4       , 3.35555556, 3.35555556, 3.35555556,\n",
       "       3.33333333, 3.2       , 3.57777778, 3.31111111, 2.91111111,\n",
       "       3.6       , 3.42222222, 3.35555556, 3.75555556, 3.75555556,\n",
       "       3.37777778, 3.84444444, 3.02222222, 3.57777778, 3.46666667,\n",
       "       3.51111111, 3.11111111, 3.35555556, 3.4       , 3.28888889,\n",
       "       3.88888889, 3.95555556, 3.26666667, 3.84444444, 3.91111111,\n",
       "       3.28888889, 3.55555556, 3.48888889, 3.31111111, 3.28888889,\n",
       "       3.57777778, 3.66666667, 3.48888889, 3.42222222, 3.08888889,\n",
       "       3.42222222, 3.2       , 3.68888889, 3.86666667, 3.22222222,\n",
       "       2.82222222, 3.51111111, 3.62222222, 3.24444444, 3.44444444,\n",
       "       3.88888889, 3.68888889, 3.48888889, 3.4       , 2.91111111,\n",
       "       3.15555556, 3.35555556, 3.35555556, 3.4       , 3.06666667,\n",
       "       3.51111111, 3.51111111, 3.6       , 3.17777778, 3.6       ,\n",
       "       3.66666667, 3.77777778, 4.        , 3.28888889, 3.17777778,\n",
       "       3.28888889, 3.6       , 3.37777778, 3.15555556, 3.95555556,\n",
       "       3.62222222, 3.66666667, 3.22222222, 3.6       , 3.28888889,\n",
       "       3.75555556, 3.46666667, 4.        , 3.57777778, 3.31111111,\n",
       "       3.77777778, 3.48888889, 3.44444444, 3.33333333, 3.8       ,\n",
       "       3.33333333, 3.51111111, 3.77777778, 3.86666667, 3.28888889,\n",
       "       3.4       , 3.64444444, 3.24444444, 2.97777778, 3.66666667,\n",
       "       3.82222222, 3.2       , 3.73333333, 3.4       , 3.64444444,\n",
       "       3.77777778, 3.55555556, 3.71111111, 3.51111111, 3.4       ,\n",
       "       3.68888889, 3.44444444, 3.44444444, 3.64444444, 3.75555556,\n",
       "       3.71111111, 3.64444444, 3.11111111, 3.2       , 3.31111111,\n",
       "       3.08888889, 3.62222222, 4.08888889, 3.71111111, 2.71111111,\n",
       "       3.68888889, 3.51111111, 3.57777778, 3.71111111, 3.31111111])"
      ]
     },
     "execution_count": 32,
     "metadata": {},
     "output_type": "execute_result"
    }
   ],
   "source": [
    "sample_mean"
   ]
  },
  {
   "cell_type": "code",
   "execution_count": 33,
   "id": "4e62bbb7",
   "metadata": {},
   "outputs": [
    {
     "data": {
      "text/plain": [
       "3.5040444444444443"
      ]
     },
     "execution_count": 33,
     "metadata": {},
     "output_type": "execute_result"
    }
   ],
   "source": [
    "mean_sample_mean=np.mean(sample_mean)\n",
    "mean_sample_mean"
   ]
  },
  {
   "cell_type": "code",
   "execution_count": 34,
   "id": "04d57b10",
   "metadata": {},
   "outputs": [
    {
     "data": {
      "text/plain": [
       "0"
      ]
     },
     "execution_count": 34,
     "metadata": {},
     "output_type": "execute_result"
    }
   ],
   "source": [
    "np.count_nonzero(sample_mean==1)"
   ]
  },
  {
   "cell_type": "code",
   "execution_count": 35,
   "id": "d0c8bb25",
   "metadata": {},
   "outputs": [
    {
     "data": {
      "text/plain": [
       "0"
      ]
     },
     "execution_count": 35,
     "metadata": {},
     "output_type": "execute_result"
    }
   ],
   "source": [
    "np.count_nonzero(sample_mean==3.5)"
   ]
  },
  {
   "cell_type": "code",
   "execution_count": 36,
   "id": "111c6cc2",
   "metadata": {},
   "outputs": [
    {
     "data": {
      "text/plain": [
       "(500,)"
      ]
     },
     "execution_count": 36,
     "metadata": {},
     "output_type": "execute_result"
    }
   ],
   "source": [
    "sample_mean.shape"
   ]
  },
  {
   "cell_type": "code",
   "execution_count": 37,
   "id": "9559b0a3",
   "metadata": {},
   "outputs": [],
   "source": [
    "import matplotlib.pyplot as plt"
   ]
  },
  {
   "cell_type": "code",
   "execution_count": 38,
   "id": "8d57ffe0",
   "metadata": {},
   "outputs": [
    {
     "data": {
      "text/plain": [
       "Text(0, 0.5, 'frequency(sample_mean=k)')"
      ]
     },
     "execution_count": 38,
     "metadata": {},
     "output_type": "execute_result"
    },
    {
     "data": {
      "image/png": "[encoded data removed]",
      "text/plain": [
       "<Figure size 432x288 with 1 Axes>"
      ]
     },
     "metadata": {
      "needs_background": "light"
     },
     "output_type": "display_data"
    }
   ],
   "source": [
    "plt.hist(sample_mean,bins=10)\n",
    "plt.xlabel('sample mean of sample size ')\n",
    "plt.ylabel('frequency(sample_mean=k)')"
   ]
  },
  {
   "cell_type": "code",
   "execution_count": 39,
   "id": "9d5b27d9",
   "metadata": {},
   "outputs": [],
   "source": [
    "import scipy.stats as s"
   ]
  },
  {
   "cell_type": "code",
   "execution_count": 40,
   "id": "aa393253",
   "metadata": {},
   "outputs": [
    {
     "data": {
      "application/javascript": [
       "\n",
       "        if (window._pyforest_update_imports_cell) { window._pyforest_update_imports_cell('import seaborn as sns'); }\n",
       "    "
      ],
      "text/plain": [
       "<IPython.core.display.Javascript object>"
      ]
     },
     "metadata": {},
     "output_type": "display_data"
    },
    {
     "name": "stderr",
     "output_type": "stream",
     "text": [
      "C:\\Users\\Pratik1\\Anaconda3\\lib\\site-packages\\seaborn\\distributions.py:2557: FutureWarning: `distplot` is a deprecated function and will be removed in a future version. Please adapt your code to use either `displot` (a figure-level function with similar flexibility) or `histplot` (an axes-level function for histograms).\n",
      "  warnings.warn(msg, FutureWarning)\n"
     ]
    },
    {
     "data": {
      "text/plain": [
       "Text(0, 0.5, 'frequency(size=k)')"
      ]
     },
     "execution_count": 40,
     "metadata": {},
     "output_type": "execute_result"
    },
    {
     "data": {
      "image/png": "[encoded data removed]",
      "text/plain": [
       "<Figure size 432x288 with 1 Axes>"
      ]
     },
     "metadata": {
      "needs_background": "light"
     },
     "output_type": "display_data"
    }
   ],
   "source": [
    "sns.distplot(sample_mean,kde=False,fit=s.norm,bins=10)\n",
    "plt.xlabel('mean of sample size 2')\n",
    "plt.ylabel('frequency(size=k)')"
   ]
  },
  {
   "cell_type": "code",
   "execution_count": null,
   "id": "3a23c508",
   "metadata": {},
   "outputs": [],
   "source": []
  }
 ],
 "metadata": {
  "kernelspec": {
   "display_name": "Python 3",
   "language": "python",
   "name": "python3"
  },
  "language_info": {
   "codemirror_mode": {
    "name": "ipython",
    "version": 3
   },
   "file_extension": ".py",
   "mimetype": "text/x-python",
   "name": "python",
   "nbconvert_exporter": "python",
   "pygments_lexer": "ipython3",
   "version": "3.7.3"
  }
 },
 "nbformat": 4,
 "nbformat_minor": 5
}
