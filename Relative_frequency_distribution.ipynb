{
 "cells": [
  {
   "cell_type": "code",
   "execution_count": 1,
   "id": "6b2790f3",
   "metadata": {},
   "outputs": [],
   "source": [
    "import numpy as np"
   ]
  },
  {
   "cell_type": "code",
   "execution_count": 2,
   "id": "2ada7423",
   "metadata": {},
   "outputs": [],
   "source": [
    "number_of_coin_tosses=np.arange(500,20500,500)"
   ]
  },
  {
   "cell_type": "code",
   "execution_count": 3,
   "id": "dfba6b07",
   "metadata": {},
   "outputs": [
    {
     "data": {
      "text/plain": [
       "array([  500,  1000,  1500,  2000,  2500,  3000,  3500,  4000,  4500,\n",
       "        5000,  5500,  6000,  6500,  7000,  7500,  8000,  8500,  9000,\n",
       "        9500, 10000, 10500, 11000, 11500, 12000, 12500, 13000, 13500,\n",
       "       14000, 14500, 15000, 15500, 16000, 16500, 17000, 17500, 18000,\n",
       "       18500, 19000, 19500, 20000])"
      ]
     },
     "execution_count": 3,
     "metadata": {},
     "output_type": "execute_result"
    }
   ],
   "source": [
    "number_of_coin_tosses"
   ]
  },
  {
   "cell_type": "code",
   "execution_count": 4,
   "id": "f65587dd",
   "metadata": {},
   "outputs": [
    {
     "data": {
      "text/plain": [
       "(40,)"
      ]
     },
     "execution_count": 4,
     "metadata": {},
     "output_type": "execute_result"
    }
   ],
   "source": [
    "number_of_coin_tosses.shape"
   ]
  },
  {
   "cell_type": "code",
   "execution_count": 5,
   "id": "9d41d098",
   "metadata": {},
   "outputs": [],
   "source": [
    "sample_coin_toss_results=np.random.binomial(n=1,p=0.5,size=number_of_coin_tosses[0])"
   ]
  },
  {
   "cell_type": "code",
   "execution_count": 6,
   "id": "4f955a91",
   "metadata": {},
   "outputs": [
    {
     "data": {
      "text/plain": [
       "array([0, 0, 1, 1, 1, 1, 0, 0, 0, 1, 1, 1, 1, 0, 1, 0, 0, 1, 1, 1, 1, 1,\n",
       "       1, 0, 1, 0, 0, 1, 0, 1, 1, 1, 1, 1, 0, 0, 1, 1, 0, 1, 1, 1, 0, 1,\n",
       "       0, 1, 1, 1, 0, 1, 1, 0, 0, 0, 1, 1, 1, 1, 0, 0, 0, 1, 1, 1, 0, 0,\n",
       "       1, 1, 1, 1, 0, 0, 0, 1, 1, 0, 1, 1, 1, 1, 1, 1, 0, 0, 0, 1, 0, 1,\n",
       "       0, 1, 1, 0, 1, 0, 1, 0, 0, 1, 0, 0, 1, 1, 1, 1, 1, 0, 0, 1, 1, 0,\n",
       "       1, 0, 0, 0, 0, 1, 0, 0, 0, 0, 1, 0, 0, 0, 0, 0, 1, 1, 0, 1, 1, 1,\n",
       "       1, 0, 0, 0, 0, 0, 0, 0, 0, 0, 1, 1, 0, 1, 0, 1, 1, 0, 1, 0, 0, 1,\n",
       "       0, 1, 0, 0, 0, 1, 0, 1, 0, 0, 1, 0, 1, 0, 0, 0, 0, 0, 1, 1, 1, 0,\n",
       "       1, 1, 1, 0, 1, 0, 0, 0, 1, 1, 1, 0, 1, 0, 1, 1, 0, 0, 0, 1, 1, 0,\n",
       "       1, 0, 1, 1, 1, 1, 0, 1, 0, 1, 0, 0, 1, 0, 1, 0, 1, 1, 1, 1, 0, 1,\n",
       "       1, 0, 0, 0, 0, 1, 0, 0, 1, 0, 0, 1, 1, 1, 0, 1, 1, 1, 1, 1, 0, 0,\n",
       "       0, 1, 1, 0, 1, 1, 0, 1, 1, 1, 0, 0, 0, 1, 0, 0, 0, 0, 1, 0, 1, 1,\n",
       "       0, 1, 1, 1, 0, 1, 1, 0, 0, 1, 0, 1, 1, 0, 0, 0, 1, 1, 1, 0, 1, 1,\n",
       "       0, 1, 1, 1, 1, 1, 1, 1, 0, 1, 1, 1, 0, 0, 1, 0, 1, 1, 0, 0, 0, 1,\n",
       "       0, 1, 0, 0, 1, 0, 0, 0, 0, 1, 1, 1, 0, 0, 1, 0, 0, 1, 0, 0, 0, 1,\n",
       "       1, 0, 1, 0, 0, 0, 1, 1, 1, 1, 1, 0, 0, 0, 0, 0, 1, 1, 0, 1, 0, 1,\n",
       "       0, 0, 1, 1, 1, 1, 0, 1, 1, 0, 0, 0, 0, 0, 0, 0, 1, 1, 1, 1, 1, 0,\n",
       "       1, 1, 1, 1, 1, 0, 1, 1, 1, 0, 0, 1, 1, 0, 1, 0, 0, 0, 1, 1, 0, 1,\n",
       "       1, 1, 0, 1, 1, 0, 0, 1, 0, 1, 1, 1, 1, 1, 0, 0, 1, 1, 1, 1, 1, 0,\n",
       "       1, 0, 1, 1, 1, 0, 0, 0, 0, 0, 1, 1, 0, 0, 0, 0, 1, 0, 0, 0, 0, 1,\n",
       "       0, 1, 1, 1, 1, 0, 1, 1, 0, 1, 0, 1, 0, 0, 0, 1, 0, 0, 0, 0, 0, 0,\n",
       "       0, 0, 0, 1, 0, 1, 1, 0, 0, 1, 1, 1, 1, 1, 1, 0, 1, 0, 1, 0, 1, 0,\n",
       "       0, 1, 0, 0, 1, 1, 0, 1, 0, 1, 0, 1, 0, 0, 1, 0])"
      ]
     },
     "execution_count": 6,
     "metadata": {},
     "output_type": "execute_result"
    }
   ],
   "source": [
    "sample_coin_toss_results"
   ]
  },
  {
   "cell_type": "code",
   "execution_count": 7,
   "id": "a8db59ab",
   "metadata": {},
   "outputs": [
    {
     "data": {
      "text/plain": [
       "array([270])"
      ]
     },
     "execution_count": 7,
     "metadata": {},
     "output_type": "execute_result"
    }
   ],
   "source": [
    "sample_coin_toss_results=np.random.binomial(n=number_of_coin_tosses[0],p=0.5,size=1)\n",
    "sample_coin_toss_results"
   ]
  },
  {
   "cell_type": "code",
   "execution_count": 8,
   "id": "5301bdeb",
   "metadata": {},
   "outputs": [],
   "source": [
    "results=[]\n",
    "\n",
    "for N in number_of_coin_tosses:\n",
    "    \n",
    "    results.append(np.random.binomial(n=N,p=0.5,size=1))"
   ]
  },
  {
   "cell_type": "markdown",
   "id": "d849422e",
   "metadata": {},
   "source": [
    "It has three parameters:\n",
    "    \n",
    "    n - number of trials.\n",
    "    \n",
    "    p - probability of occurence of each trial (e.g. for toss of a coin 0.5 each).\n",
    "    \n",
    "    size - The shape of the returned array."
   ]
  },
  {
   "cell_type": "code",
   "execution_count": 9,
   "id": "994e9e62",
   "metadata": {},
   "outputs": [
    {
     "data": {
      "text/plain": [
       "[array([246]),\n",
       " array([506]),\n",
       " array([752]),\n",
       " array([1034]),\n",
       " array([1279]),\n",
       " array([1486]),\n",
       " array([1740]),\n",
       " array([2010]),\n",
       " array([2238]),\n",
       " array([2471]),\n",
       " array([2805]),\n",
       " array([2973]),\n",
       " array([3219]),\n",
       " array([3502]),\n",
       " array([3704]),\n",
       " array([4071]),\n",
       " array([4242]),\n",
       " array([4483]),\n",
       " array([4681]),\n",
       " array([4895]),\n",
       " array([5260]),\n",
       " array([5498]),\n",
       " array([5705]),\n",
       " array([6103]),\n",
       " array([6127]),\n",
       " array([6525]),\n",
       " array([6798]),\n",
       " array([6981]),\n",
       " array([7286]),\n",
       " array([7542]),\n",
       " array([7657]),\n",
       " array([8035]),\n",
       " array([8232]),\n",
       " array([8493]),\n",
       " array([8899]),\n",
       " array([8963]),\n",
       " array([9243]),\n",
       " array([9516]),\n",
       " array([9756]),\n",
       " array([10058])]"
      ]
     },
     "execution_count": 9,
     "metadata": {},
     "output_type": "execute_result"
    }
   ],
   "source": [
    "results"
   ]
  },
  {
   "cell_type": "code",
   "execution_count": 10,
   "id": "ece9a0ea",
   "metadata": {},
   "outputs": [
    {
     "data": {
      "text/plain": [
       "array([[  246],\n",
       "       [  506],\n",
       "       [  752],\n",
       "       [ 1034],\n",
       "       [ 1279],\n",
       "       [ 1486],\n",
       "       [ 1740],\n",
       "       [ 2010],\n",
       "       [ 2238],\n",
       "       [ 2471],\n",
       "       [ 2805],\n",
       "       [ 2973],\n",
       "       [ 3219],\n",
       "       [ 3502],\n",
       "       [ 3704],\n",
       "       [ 4071],\n",
       "       [ 4242],\n",
       "       [ 4483],\n",
       "       [ 4681],\n",
       "       [ 4895],\n",
       "       [ 5260],\n",
       "       [ 5498],\n",
       "       [ 5705],\n",
       "       [ 6103],\n",
       "       [ 6127],\n",
       "       [ 6525],\n",
       "       [ 6798],\n",
       "       [ 6981],\n",
       "       [ 7286],\n",
       "       [ 7542],\n",
       "       [ 7657],\n",
       "       [ 8035],\n",
       "       [ 8232],\n",
       "       [ 8493],\n",
       "       [ 8899],\n",
       "       [ 8963],\n",
       "       [ 9243],\n",
       "       [ 9516],\n",
       "       [ 9756],\n",
       "       [10058]])"
      ]
     },
     "execution_count": 10,
     "metadata": {},
     "output_type": "execute_result"
    }
   ],
   "source": [
    "results=np.array(results)\n",
    "results"
   ]
  },
  {
   "cell_type": "code",
   "execution_count": 11,
   "id": "6cfac2cf",
   "metadata": {},
   "outputs": [
    {
     "data": {
      "text/plain": [
       "(40, 1)"
      ]
     },
     "execution_count": 11,
     "metadata": {},
     "output_type": "execute_result"
    }
   ],
   "source": [
    "results.shape"
   ]
  },
  {
   "cell_type": "code",
   "execution_count": 12,
   "id": "18546d41",
   "metadata": {},
   "outputs": [],
   "source": [
    "number_of_coin_tosses=number_of_coin_tosses.reshape(number_of_coin_tosses.shape[0],1)"
   ]
  },
  {
   "cell_type": "code",
   "execution_count": 13,
   "id": "9cc951e9",
   "metadata": {},
   "outputs": [
    {
     "data": {
      "text/plain": [
       "(40, 1)"
      ]
     },
     "execution_count": 13,
     "metadata": {},
     "output_type": "execute_result"
    }
   ],
   "source": [
    "number_of_coin_tosses.shape"
   ]
  },
  {
   "cell_type": "code",
   "execution_count": 14,
   "id": "098538ac",
   "metadata": {},
   "outputs": [
    {
     "data": {
      "text/plain": [
       "array([[0.492     ],\n",
       "       [0.506     ],\n",
       "       [0.50133333],\n",
       "       [0.517     ],\n",
       "       [0.5116    ],\n",
       "       [0.49533333],\n",
       "       [0.49714286],\n",
       "       [0.5025    ],\n",
       "       [0.49733333],\n",
       "       [0.4942    ],\n",
       "       [0.51      ],\n",
       "       [0.4955    ],\n",
       "       [0.49523077],\n",
       "       [0.50028571],\n",
       "       [0.49386667],\n",
       "       [0.508875  ],\n",
       "       [0.49905882],\n",
       "       [0.49811111],\n",
       "       [0.49273684],\n",
       "       [0.4895    ],\n",
       "       [0.50095238],\n",
       "       [0.49981818],\n",
       "       [0.49608696],\n",
       "       [0.50858333],\n",
       "       [0.49016   ],\n",
       "       [0.50192308],\n",
       "       [0.50355556],\n",
       "       [0.49864286],\n",
       "       [0.50248276],\n",
       "       [0.5028    ],\n",
       "       [0.494     ],\n",
       "       [0.5021875 ],\n",
       "       [0.49890909],\n",
       "       [0.49958824],\n",
       "       [0.50851429],\n",
       "       [0.49794444],\n",
       "       [0.49962162],\n",
       "       [0.50084211],\n",
       "       [0.50030769],\n",
       "       [0.5029    ]])"
      ]
     },
     "execution_count": 14,
     "metadata": {},
     "output_type": "execute_result"
    }
   ],
   "source": [
    "relative_frequency=results/number_of_coin_tosses\n",
    "relative_frequency"
   ]
  },
  {
   "cell_type": "code",
   "execution_count": 15,
   "id": "4a37746a",
   "metadata": {},
   "outputs": [
    {
     "data": {
      "application/javascript": [
       "\n",
       "        if (window._pyforest_update_imports_cell) { window._pyforest_update_imports_cell('import matplotlib.pyplot as plt'); }\n",
       "    "
      ],
      "text/plain": [
       "<IPython.core.display.Javascript object>"
      ]
     },
     "metadata": {},
     "output_type": "display_data"
    },
    {
     "data": {
      "text/plain": [
       "<StemContainer object of 3 artists>"
      ]
     },
     "execution_count": 15,
     "metadata": {},
     "output_type": "execute_result"
    },
    {
     "data": {
      "image/png": "[encoded data removed]",
      "text/plain": [
       "<Figure size 432x288 with 1 Axes>"
      ]
     },
     "metadata": {
      "needs_background": "light"
     },
     "output_type": "display_data"
    }
   ],
   "source": [
    "plt.stem(number_of_coin_tosses,relative_frequency)"
   ]
  },
  {
   "cell_type": "markdown",
   "id": "dc73beb8",
   "metadata": {},
   "source": [
    "As we approaches to population our relative frequency gets closer to actual result i.e 0.5"
   ]
  }
 ],
 "metadata": {
  "kernelspec": {
   "display_name": "Python 3",
   "language": "python",
   "name": "python3"
  },
  "language_info": {
   "codemirror_mode": {
    "name": "ipython",
    "version": 3
   },
   "file_extension": ".py",
   "mimetype": "text/x-python",
   "name": "python",
   "nbconvert_exporter": "python",
   "pygments_lexer": "ipython3",
   "version": "3.7.3"
  }
 },
 "nbformat": 4,
 "nbformat_minor": 5
}
