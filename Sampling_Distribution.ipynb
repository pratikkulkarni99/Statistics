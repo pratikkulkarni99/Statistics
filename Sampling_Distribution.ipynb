{
 "cells": [
  {
   "cell_type": "code",
   "execution_count": 1,
   "id": "bf7d215f",
   "metadata": {},
   "outputs": [],
   "source": [
    "import numpy as np"
   ]
  },
  {
   "cell_type": "code",
   "execution_count": 2,
   "id": "4687c775",
   "metadata": {},
   "outputs": [],
   "source": [
    "die=np.random.randint(low=1,high=7,size=(100,35))"
   ]
  },
  {
   "cell_type": "code",
   "execution_count": 3,
   "id": "8ac02b2c",
   "metadata": {},
   "outputs": [
    {
     "data": {
      "text/plain": [
       "array([[6, 4, 1, ..., 4, 1, 6],\n",
       "       [1, 4, 1, ..., 5, 2, 6],\n",
       "       [6, 4, 6, ..., 4, 6, 2],\n",
       "       ...,\n",
       "       [6, 6, 5, ..., 3, 2, 2],\n",
       "       [2, 6, 5, ..., 1, 6, 4],\n",
       "       [3, 5, 2, ..., 3, 5, 5]])"
      ]
     },
     "execution_count": 3,
     "metadata": {},
     "output_type": "execute_result"
    }
   ],
   "source": [
    "die"
   ]
  },
  {
   "cell_type": "code",
   "execution_count": 4,
   "id": "f884b6f8",
   "metadata": {},
   "outputs": [],
   "source": [
    "sample_mean=np.mean(die,axis=1)"
   ]
  },
  {
   "cell_type": "code",
   "execution_count": 5,
   "id": "24533173",
   "metadata": {},
   "outputs": [
    {
     "data": {
      "text/plain": [
       "array([3.4       , 3.37142857, 3.68571429, 3.57142857, 3.74285714,\n",
       "       3.71428571, 3.85714286, 3.37142857, 3.85714286, 3.97142857,\n",
       "       3.6       , 3.14285714, 3.71428571, 3.11428571, 3.88571429,\n",
       "       3.22857143, 3.91428571, 3.17142857, 3.82857143, 3.17142857,\n",
       "       3.37142857, 3.28571429, 3.8       , 3.6       , 3.48571429,\n",
       "       3.91428571, 3.54285714, 3.        , 3.85714286, 3.54285714,\n",
       "       3.77142857, 3.77142857, 3.42857143, 3.05714286, 3.85714286,\n",
       "       3.42857143, 3.37142857, 3.68571429, 3.14285714, 3.22857143,\n",
       "       3.22857143, 2.8       , 3.22857143, 3.6       , 3.22857143,\n",
       "       3.71428571, 2.94285714, 3.34285714, 3.82857143, 3.34285714,\n",
       "       3.51428571, 3.25714286, 3.42857143, 3.37142857, 3.65714286,\n",
       "       4.05714286, 3.77142857, 3.48571429, 3.57142857, 3.42857143,\n",
       "       4.        , 3.74285714, 3.22857143, 3.71428571, 2.82857143,\n",
       "       3.4       , 3.74285714, 3.77142857, 2.85714286, 3.8       ,\n",
       "       3.68571429, 3.31428571, 4.4       , 3.31428571, 3.45714286,\n",
       "       3.8       , 3.25714286, 3.85714286, 3.45714286, 3.11428571,\n",
       "       3.14285714, 3.74285714, 3.94285714, 3.62857143, 3.42857143,\n",
       "       3.4       , 3.2       , 3.6       , 3.6       , 3.57142857,\n",
       "       3.4       , 3.34285714, 3.62857143, 3.51428571, 3.25714286,\n",
       "       3.28571429, 3.14285714, 3.68571429, 3.14285714, 3.77142857])"
      ]
     },
     "execution_count": 5,
     "metadata": {},
     "output_type": "execute_result"
    }
   ],
   "source": [
    "sample_mean"
   ]
  },
  {
   "cell_type": "code",
   "execution_count": 6,
   "id": "c90dac30",
   "metadata": {},
   "outputs": [
    {
     "data": {
      "text/plain": [
       "(100,)"
      ]
     },
     "execution_count": 6,
     "metadata": {},
     "output_type": "execute_result"
    }
   ],
   "source": [
    "sample_mean.shape"
   ]
  },
  {
   "cell_type": "code",
   "execution_count": 7,
   "id": "4a479d3a",
   "metadata": {},
   "outputs": [
    {
     "data": {
      "application/javascript": [
       "\n",
       "        if (window._pyforest_update_imports_cell) { window._pyforest_update_imports_cell('import matplotlib.pyplot as plt'); }\n",
       "    "
      ],
      "text/plain": [
       "<IPython.core.display.Javascript object>"
      ]
     },
     "metadata": {},
     "output_type": "display_data"
    },
    {
     "data": {
      "application/javascript": [
       "\n",
       "        if (window._pyforest_update_imports_cell) { window._pyforest_update_imports_cell('import matplotlib.pyplot as plt'); }\n",
       "    "
      ],
      "text/plain": [
       "<IPython.core.display.Javascript object>"
      ]
     },
     "metadata": {},
     "output_type": "display_data"
    },
    {
     "data": {
      "application/javascript": [
       "\n",
       "        if (window._pyforest_update_imports_cell) { window._pyforest_update_imports_cell('import matplotlib.pyplot as plt'); }\n",
       "    "
      ],
      "text/plain": [
       "<IPython.core.display.Javascript object>"
      ]
     },
     "metadata": {},
     "output_type": "display_data"
    },
    {
     "data": {
      "text/plain": [
       "Text(0, 0.5, 'frequncy')"
      ]
     },
     "execution_count": 7,
     "metadata": {},
     "output_type": "execute_result"
    },
    {
     "data": {
      "image/png": "[encoded data removed]",
      "text/plain": [
       "<Figure size 432x288 with 1 Axes>"
      ]
     },
     "metadata": {
      "needs_background": "light"
     },
     "output_type": "display_data"
    }
   ],
   "source": [
    "plt.hist(sample_mean,bins=10)\n",
    "plt.xlabel('sample_mean')\n",
    "plt.ylabel('frequncy')"
   ]
  },
  {
   "cell_type": "code",
   "execution_count": 8,
   "id": "ed5a1d77",
   "metadata": {},
   "outputs": [
    {
     "data": {
      "text/plain": [
       "3.504285714285715"
      ]
     },
     "execution_count": 8,
     "metadata": {},
     "output_type": "execute_result"
    }
   ],
   "source": [
    "np.mean(sample_mean)"
   ]
  },
  {
   "cell_type": "code",
   "execution_count": 9,
   "id": "596b941e",
   "metadata": {},
   "outputs": [
    {
     "data": {
      "text/plain": [
       "0.08813673469387756"
      ]
     },
     "execution_count": 9,
     "metadata": {},
     "output_type": "execute_result"
    }
   ],
   "source": [
    "np.var(sample_mean)  #INVERSLY PROPOTIONAL TO SAMPLE SIZE"
   ]
  },
  {
   "cell_type": "markdown",
   "id": "e1e1b098",
   "metadata": {},
   "source": [
    "#### UNIFORM PROBABILITY FUNCTION"
   ]
  },
  {
   "cell_type": "code",
   "execution_count": 10,
   "id": "bc03b7a7",
   "metadata": {},
   "outputs": [
    {
     "data": {
      "text/plain": [
       "2.9173691734552305"
      ]
     },
     "execution_count": 10,
     "metadata": {},
     "output_type": "execute_result"
    }
   ],
   "source": [
    "np.var(np.random.randint(low=1,high=7,size=60000000))  #FIXED "
   ]
  }
 ],
 "metadata": {
  "kernelspec": {
   "display_name": "Python 3",
   "language": "python",
   "name": "python3"
  },
  "language_info": {
   "codemirror_mode": {
    "name": "ipython",
    "version": 3
   },
   "file_extension": ".py",
   "mimetype": "text/x-python",
   "name": "python",
   "nbconvert_exporter": "python",
   "pygments_lexer": "ipython3",
   "version": "3.7.3"
  }
 },
 "nbformat": 4,
 "nbformat_minor": 5
}
